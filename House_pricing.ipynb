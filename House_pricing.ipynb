{
 "cells": [
  {
   "cell_type": "markdown",
   "metadata": {},
   "source": [
    "###  To build a prediction model to evaluate the price of a house with the given features."
   ]
  },
  {
   "cell_type": "markdown",
   "metadata": {},
   "source": [
    "### Data Description"
   ]
  },
  {
   "cell_type": "markdown",
   "metadata": {},
   "source": [
    " cid: a notation for a house\n",
    "1.\tdayhours: Date house was sold\n",
    "2.\tprice: Price is prediction target\n",
    "3.\troom_bed: Number of Bedrooms/House\n",
    "4.\troom_bath: Number of bathrooms/bedrooms\n",
    "5.\tliving_measure: square footage of the home\n",
    "6.\tlot_measure: square footage of the lot\n",
    "7.\tceil: Total floors (levels) in house\n",
    "8.\tcoast: House which has a view to a waterfront\n",
    "9.\tsight: Has been viewed\n",
    "10.\tcondition: How good the condition is (Overall)\n",
    "11.\tquality: grade given to the housing unit, based on grading system\n",
    "12.\tceil_measure: square footage of house apart from basement\n",
    "13.\tbasement_measure: square footage of the basement\n",
    "14.\tyr_built: Built Year\n",
    "15.\tyr_renovated: Year when house was renovated\n",
    "16.\tzipcode: zip\n",
    "17.\tlat: Latitude coordinate\n",
    "18.\tlong: Longitude coordinate\n",
    "19.\tliving_measure15: Living room area in 2015(implies-- some renovations) This might or might not have affected the lotsize area\n",
    "20.\tlot_measure15: lotSize area in 2015(implies-- some renovations)\n",
    "21.\tfurnished: Based on the quality of room 23: total_area: Measure of both living and lot\n"
   ]
  },
  {
   "cell_type": "markdown",
   "metadata": {},
   "source": [
    "### Data Ingestion"
   ]
  },
  {
   "cell_type": "code",
   "execution_count": 1,
   "metadata": {},
   "outputs": [],
   "source": [
    "import pandas as pd\n",
    "import numpy as np\n",
    "pd.options.display.max_columns=None\n",
    "import seaborn as sns\n",
    "import matplotlib.pyplot as plt\n",
    "from scipy.stats import zscore\n",
    "import warnings\n",
    "warnings.filterwarnings('ignore')"
   ]
  },
  {
   "cell_type": "code",
   "execution_count": 2,
   "metadata": {},
   "outputs": [],
   "source": [
    "# Loading the dataset whcih having city and region columns\n",
    "house=pd.read_csv('innercityn.csv')\n",
    "y=house['price']"
   ]
  },
  {
   "cell_type": "code",
   "execution_count": 3,
   "metadata": {},
   "outputs": [
    {
     "name": "stdout",
     "output_type": "stream",
     "text": [
      "The shape of the dataset (21613, 25)\n",
      "The size of the dataset 540325\n"
     ]
    }
   ],
   "source": [
    "# Shape and Size of the dataset\n",
    "print(\"The shape of the dataset\",house.shape)\n",
    "print(\"The size of the dataset\",house.size)"
   ]
  },
  {
   "cell_type": "code",
   "execution_count": 4,
   "metadata": {},
   "outputs": [
    {
     "data": {
      "text/plain": [
       "cid                 0\n",
       "dayhours            0\n",
       "price               0\n",
       "room_bed            0\n",
       "room_bath           0\n",
       "living_measure      0\n",
       "lot_measure         0\n",
       "ceil                0\n",
       "coast               0\n",
       "sight               0\n",
       "condition           0\n",
       "quality             0\n",
       "ceil_measure        0\n",
       "basement            0\n",
       "yr_built            0\n",
       "yr_renovated        0\n",
       "zipcode             0\n",
       "City                0\n",
       "lat                 0\n",
       "long                0\n",
       "living_measure15    0\n",
       "lot_measure15       0\n",
       "furnished           0\n",
       "Region              0\n",
       "total_area          0\n",
       "dtype: int64"
      ]
     },
     "execution_count": 4,
     "metadata": {},
     "output_type": "execute_result"
    }
   ],
   "source": [
    "#Check the null values in the dataset\n",
    "house.isnull().sum()"
   ]
  },
  {
   "cell_type": "code",
   "execution_count": 5,
   "metadata": {},
   "outputs": [
    {
     "data": {
      "text/html": [
       "<div>\n",
       "<style scoped>\n",
       "    .dataframe tbody tr th:only-of-type {\n",
       "        vertical-align: middle;\n",
       "    }\n",
       "\n",
       "    .dataframe tbody tr th {\n",
       "        vertical-align: top;\n",
       "    }\n",
       "\n",
       "    .dataframe thead th {\n",
       "        text-align: right;\n",
       "    }\n",
       "</style>\n",
       "<table border=\"1\" class=\"dataframe\">\n",
       "  <thead>\n",
       "    <tr style=\"text-align: right;\">\n",
       "      <th></th>\n",
       "      <th>count</th>\n",
       "      <th>mean</th>\n",
       "      <th>std</th>\n",
       "      <th>min</th>\n",
       "      <th>25%</th>\n",
       "      <th>50%</th>\n",
       "      <th>75%</th>\n",
       "      <th>max</th>\n",
       "    </tr>\n",
       "  </thead>\n",
       "  <tbody>\n",
       "    <tr>\n",
       "      <th>cid</th>\n",
       "      <td>21613.0</td>\n",
       "      <td>4.580302e+09</td>\n",
       "      <td>2.876566e+09</td>\n",
       "      <td>1.000102e+06</td>\n",
       "      <td>2.123049e+09</td>\n",
       "      <td>3.904930e+09</td>\n",
       "      <td>7.308900e+09</td>\n",
       "      <td>9.900000e+09</td>\n",
       "    </tr>\n",
       "    <tr>\n",
       "      <th>price</th>\n",
       "      <td>21613.0</td>\n",
       "      <td>5.401822e+05</td>\n",
       "      <td>3.673622e+05</td>\n",
       "      <td>7.500000e+04</td>\n",
       "      <td>3.219500e+05</td>\n",
       "      <td>4.500000e+05</td>\n",
       "      <td>6.450000e+05</td>\n",
       "      <td>7.700000e+06</td>\n",
       "    </tr>\n",
       "    <tr>\n",
       "      <th>room_bed</th>\n",
       "      <td>21613.0</td>\n",
       "      <td>3.370842e+00</td>\n",
       "      <td>9.300618e-01</td>\n",
       "      <td>0.000000e+00</td>\n",
       "      <td>3.000000e+00</td>\n",
       "      <td>3.000000e+00</td>\n",
       "      <td>4.000000e+00</td>\n",
       "      <td>3.300000e+01</td>\n",
       "    </tr>\n",
       "    <tr>\n",
       "      <th>room_bath</th>\n",
       "      <td>21613.0</td>\n",
       "      <td>2.114757e+00</td>\n",
       "      <td>7.701632e-01</td>\n",
       "      <td>0.000000e+00</td>\n",
       "      <td>1.750000e+00</td>\n",
       "      <td>2.250000e+00</td>\n",
       "      <td>2.500000e+00</td>\n",
       "      <td>8.000000e+00</td>\n",
       "    </tr>\n",
       "    <tr>\n",
       "      <th>living_measure</th>\n",
       "      <td>21613.0</td>\n",
       "      <td>2.079900e+03</td>\n",
       "      <td>9.184409e+02</td>\n",
       "      <td>2.900000e+02</td>\n",
       "      <td>1.427000e+03</td>\n",
       "      <td>1.910000e+03</td>\n",
       "      <td>2.550000e+03</td>\n",
       "      <td>1.354000e+04</td>\n",
       "    </tr>\n",
       "    <tr>\n",
       "      <th>lot_measure</th>\n",
       "      <td>21613.0</td>\n",
       "      <td>1.510697e+04</td>\n",
       "      <td>4.142051e+04</td>\n",
       "      <td>5.200000e+02</td>\n",
       "      <td>5.040000e+03</td>\n",
       "      <td>7.618000e+03</td>\n",
       "      <td>1.068800e+04</td>\n",
       "      <td>1.651359e+06</td>\n",
       "    </tr>\n",
       "    <tr>\n",
       "      <th>ceil</th>\n",
       "      <td>21613.0</td>\n",
       "      <td>1.494309e+00</td>\n",
       "      <td>5.399889e-01</td>\n",
       "      <td>1.000000e+00</td>\n",
       "      <td>1.000000e+00</td>\n",
       "      <td>1.500000e+00</td>\n",
       "      <td>2.000000e+00</td>\n",
       "      <td>3.500000e+00</td>\n",
       "    </tr>\n",
       "    <tr>\n",
       "      <th>coast</th>\n",
       "      <td>21613.0</td>\n",
       "      <td>7.541757e-03</td>\n",
       "      <td>8.651720e-02</td>\n",
       "      <td>0.000000e+00</td>\n",
       "      <td>0.000000e+00</td>\n",
       "      <td>0.000000e+00</td>\n",
       "      <td>0.000000e+00</td>\n",
       "      <td>1.000000e+00</td>\n",
       "    </tr>\n",
       "    <tr>\n",
       "      <th>sight</th>\n",
       "      <td>21613.0</td>\n",
       "      <td>2.343034e-01</td>\n",
       "      <td>7.663176e-01</td>\n",
       "      <td>0.000000e+00</td>\n",
       "      <td>0.000000e+00</td>\n",
       "      <td>0.000000e+00</td>\n",
       "      <td>0.000000e+00</td>\n",
       "      <td>4.000000e+00</td>\n",
       "    </tr>\n",
       "    <tr>\n",
       "      <th>condition</th>\n",
       "      <td>21613.0</td>\n",
       "      <td>3.409430e+00</td>\n",
       "      <td>6.507430e-01</td>\n",
       "      <td>1.000000e+00</td>\n",
       "      <td>3.000000e+00</td>\n",
       "      <td>3.000000e+00</td>\n",
       "      <td>4.000000e+00</td>\n",
       "      <td>5.000000e+00</td>\n",
       "    </tr>\n",
       "    <tr>\n",
       "      <th>quality</th>\n",
       "      <td>21613.0</td>\n",
       "      <td>7.656873e+00</td>\n",
       "      <td>1.175459e+00</td>\n",
       "      <td>1.000000e+00</td>\n",
       "      <td>7.000000e+00</td>\n",
       "      <td>7.000000e+00</td>\n",
       "      <td>8.000000e+00</td>\n",
       "      <td>1.300000e+01</td>\n",
       "    </tr>\n",
       "    <tr>\n",
       "      <th>ceil_measure</th>\n",
       "      <td>21613.0</td>\n",
       "      <td>1.788391e+03</td>\n",
       "      <td>8.280910e+02</td>\n",
       "      <td>2.900000e+02</td>\n",
       "      <td>1.190000e+03</td>\n",
       "      <td>1.560000e+03</td>\n",
       "      <td>2.210000e+03</td>\n",
       "      <td>9.410000e+03</td>\n",
       "    </tr>\n",
       "    <tr>\n",
       "      <th>basement</th>\n",
       "      <td>21613.0</td>\n",
       "      <td>2.915090e+02</td>\n",
       "      <td>4.425750e+02</td>\n",
       "      <td>0.000000e+00</td>\n",
       "      <td>0.000000e+00</td>\n",
       "      <td>0.000000e+00</td>\n",
       "      <td>5.600000e+02</td>\n",
       "      <td>4.820000e+03</td>\n",
       "    </tr>\n",
       "    <tr>\n",
       "      <th>yr_built</th>\n",
       "      <td>21613.0</td>\n",
       "      <td>1.971005e+03</td>\n",
       "      <td>2.937341e+01</td>\n",
       "      <td>1.900000e+03</td>\n",
       "      <td>1.951000e+03</td>\n",
       "      <td>1.975000e+03</td>\n",
       "      <td>1.997000e+03</td>\n",
       "      <td>2.015000e+03</td>\n",
       "    </tr>\n",
       "    <tr>\n",
       "      <th>yr_renovated</th>\n",
       "      <td>21613.0</td>\n",
       "      <td>8.440226e+01</td>\n",
       "      <td>4.016792e+02</td>\n",
       "      <td>0.000000e+00</td>\n",
       "      <td>0.000000e+00</td>\n",
       "      <td>0.000000e+00</td>\n",
       "      <td>0.000000e+00</td>\n",
       "      <td>2.015000e+03</td>\n",
       "    </tr>\n",
       "    <tr>\n",
       "      <th>zipcode</th>\n",
       "      <td>21613.0</td>\n",
       "      <td>9.807794e+04</td>\n",
       "      <td>5.350503e+01</td>\n",
       "      <td>9.800100e+04</td>\n",
       "      <td>9.803300e+04</td>\n",
       "      <td>9.806500e+04</td>\n",
       "      <td>9.811800e+04</td>\n",
       "      <td>9.819900e+04</td>\n",
       "    </tr>\n",
       "    <tr>\n",
       "      <th>lat</th>\n",
       "      <td>21613.0</td>\n",
       "      <td>4.756005e+01</td>\n",
       "      <td>1.385637e-01</td>\n",
       "      <td>4.715590e+01</td>\n",
       "      <td>4.747100e+01</td>\n",
       "      <td>4.757180e+01</td>\n",
       "      <td>4.767800e+01</td>\n",
       "      <td>4.777760e+01</td>\n",
       "    </tr>\n",
       "    <tr>\n",
       "      <th>long</th>\n",
       "      <td>21613.0</td>\n",
       "      <td>-1.222139e+02</td>\n",
       "      <td>1.408283e-01</td>\n",
       "      <td>-1.225190e+02</td>\n",
       "      <td>-1.223280e+02</td>\n",
       "      <td>-1.222300e+02</td>\n",
       "      <td>-1.221250e+02</td>\n",
       "      <td>-1.213150e+02</td>\n",
       "    </tr>\n",
       "    <tr>\n",
       "      <th>living_measure15</th>\n",
       "      <td>21613.0</td>\n",
       "      <td>1.986552e+03</td>\n",
       "      <td>6.853913e+02</td>\n",
       "      <td>3.990000e+02</td>\n",
       "      <td>1.490000e+03</td>\n",
       "      <td>1.840000e+03</td>\n",
       "      <td>2.360000e+03</td>\n",
       "      <td>6.210000e+03</td>\n",
       "    </tr>\n",
       "    <tr>\n",
       "      <th>lot_measure15</th>\n",
       "      <td>21613.0</td>\n",
       "      <td>1.276846e+04</td>\n",
       "      <td>2.730418e+04</td>\n",
       "      <td>6.510000e+02</td>\n",
       "      <td>5.100000e+03</td>\n",
       "      <td>7.620000e+03</td>\n",
       "      <td>1.008300e+04</td>\n",
       "      <td>8.712000e+05</td>\n",
       "    </tr>\n",
       "    <tr>\n",
       "      <th>furnished</th>\n",
       "      <td>21613.0</td>\n",
       "      <td>1.966872e-01</td>\n",
       "      <td>3.975030e-01</td>\n",
       "      <td>0.000000e+00</td>\n",
       "      <td>0.000000e+00</td>\n",
       "      <td>0.000000e+00</td>\n",
       "      <td>0.000000e+00</td>\n",
       "      <td>1.000000e+00</td>\n",
       "    </tr>\n",
       "    <tr>\n",
       "      <th>total_area</th>\n",
       "      <td>21613.0</td>\n",
       "      <td>1.718687e+04</td>\n",
       "      <td>4.158908e+04</td>\n",
       "      <td>1.423000e+03</td>\n",
       "      <td>7.035000e+03</td>\n",
       "      <td>9.575000e+03</td>\n",
       "      <td>1.300000e+04</td>\n",
       "      <td>1.652659e+06</td>\n",
       "    </tr>\n",
       "  </tbody>\n",
       "</table>\n",
       "</div>"
      ],
      "text/plain": [
       "                    count          mean           std           min  \\\n",
       "cid               21613.0  4.580302e+09  2.876566e+09  1.000102e+06   \n",
       "price             21613.0  5.401822e+05  3.673622e+05  7.500000e+04   \n",
       "room_bed          21613.0  3.370842e+00  9.300618e-01  0.000000e+00   \n",
       "room_bath         21613.0  2.114757e+00  7.701632e-01  0.000000e+00   \n",
       "living_measure    21613.0  2.079900e+03  9.184409e+02  2.900000e+02   \n",
       "lot_measure       21613.0  1.510697e+04  4.142051e+04  5.200000e+02   \n",
       "ceil              21613.0  1.494309e+00  5.399889e-01  1.000000e+00   \n",
       "coast             21613.0  7.541757e-03  8.651720e-02  0.000000e+00   \n",
       "sight             21613.0  2.343034e-01  7.663176e-01  0.000000e+00   \n",
       "condition         21613.0  3.409430e+00  6.507430e-01  1.000000e+00   \n",
       "quality           21613.0  7.656873e+00  1.175459e+00  1.000000e+00   \n",
       "ceil_measure      21613.0  1.788391e+03  8.280910e+02  2.900000e+02   \n",
       "basement          21613.0  2.915090e+02  4.425750e+02  0.000000e+00   \n",
       "yr_built          21613.0  1.971005e+03  2.937341e+01  1.900000e+03   \n",
       "yr_renovated      21613.0  8.440226e+01  4.016792e+02  0.000000e+00   \n",
       "zipcode           21613.0  9.807794e+04  5.350503e+01  9.800100e+04   \n",
       "lat               21613.0  4.756005e+01  1.385637e-01  4.715590e+01   \n",
       "long              21613.0 -1.222139e+02  1.408283e-01 -1.225190e+02   \n",
       "living_measure15  21613.0  1.986552e+03  6.853913e+02  3.990000e+02   \n",
       "lot_measure15     21613.0  1.276846e+04  2.730418e+04  6.510000e+02   \n",
       "furnished         21613.0  1.966872e-01  3.975030e-01  0.000000e+00   \n",
       "total_area        21613.0  1.718687e+04  4.158908e+04  1.423000e+03   \n",
       "\n",
       "                           25%           50%           75%           max  \n",
       "cid               2.123049e+09  3.904930e+09  7.308900e+09  9.900000e+09  \n",
       "price             3.219500e+05  4.500000e+05  6.450000e+05  7.700000e+06  \n",
       "room_bed          3.000000e+00  3.000000e+00  4.000000e+00  3.300000e+01  \n",
       "room_bath         1.750000e+00  2.250000e+00  2.500000e+00  8.000000e+00  \n",
       "living_measure    1.427000e+03  1.910000e+03  2.550000e+03  1.354000e+04  \n",
       "lot_measure       5.040000e+03  7.618000e+03  1.068800e+04  1.651359e+06  \n",
       "ceil              1.000000e+00  1.500000e+00  2.000000e+00  3.500000e+00  \n",
       "coast             0.000000e+00  0.000000e+00  0.000000e+00  1.000000e+00  \n",
       "sight             0.000000e+00  0.000000e+00  0.000000e+00  4.000000e+00  \n",
       "condition         3.000000e+00  3.000000e+00  4.000000e+00  5.000000e+00  \n",
       "quality           7.000000e+00  7.000000e+00  8.000000e+00  1.300000e+01  \n",
       "ceil_measure      1.190000e+03  1.560000e+03  2.210000e+03  9.410000e+03  \n",
       "basement          0.000000e+00  0.000000e+00  5.600000e+02  4.820000e+03  \n",
       "yr_built          1.951000e+03  1.975000e+03  1.997000e+03  2.015000e+03  \n",
       "yr_renovated      0.000000e+00  0.000000e+00  0.000000e+00  2.015000e+03  \n",
       "zipcode           9.803300e+04  9.806500e+04  9.811800e+04  9.819900e+04  \n",
       "lat               4.747100e+01  4.757180e+01  4.767800e+01  4.777760e+01  \n",
       "long             -1.223280e+02 -1.222300e+02 -1.221250e+02 -1.213150e+02  \n",
       "living_measure15  1.490000e+03  1.840000e+03  2.360000e+03  6.210000e+03  \n",
       "lot_measure15     5.100000e+03  7.620000e+03  1.008300e+04  8.712000e+05  \n",
       "furnished         0.000000e+00  0.000000e+00  0.000000e+00  1.000000e+00  \n",
       "total_area        7.035000e+03  9.575000e+03  1.300000e+04  1.652659e+06  "
      ]
     },
     "execution_count": 5,
     "metadata": {},
     "output_type": "execute_result"
    }
   ],
   "source": [
    "#Description of the dataset\n",
    "house.describe().transpose()"
   ]
  },
  {
   "cell_type": "code",
   "execution_count": 6,
   "metadata": {},
   "outputs": [
    {
     "name": "stdout",
     "output_type": "stream",
     "text": [
      "<class 'pandas.core.frame.DataFrame'>\n",
      "RangeIndex: 21613 entries, 0 to 21612\n",
      "Data columns (total 25 columns):\n",
      "cid                 21613 non-null int64\n",
      "dayhours            21613 non-null object\n",
      "price               21613 non-null int64\n",
      "room_bed            21613 non-null int64\n",
      "room_bath           21613 non-null float64\n",
      "living_measure      21613 non-null int64\n",
      "lot_measure         21613 non-null int64\n",
      "ceil                21613 non-null float64\n",
      "coast               21613 non-null int64\n",
      "sight               21613 non-null int64\n",
      "condition           21613 non-null int64\n",
      "quality             21613 non-null int64\n",
      "ceil_measure        21613 non-null int64\n",
      "basement            21613 non-null int64\n",
      "yr_built            21613 non-null int64\n",
      "yr_renovated        21613 non-null int64\n",
      "zipcode             21613 non-null int64\n",
      "City                21613 non-null object\n",
      "lat                 21613 non-null float64\n",
      "long                21613 non-null float64\n",
      "living_measure15    21613 non-null int64\n",
      "lot_measure15       21613 non-null int64\n",
      "furnished           21613 non-null int64\n",
      "Region              21613 non-null object\n",
      "total_area          21613 non-null int64\n",
      "dtypes: float64(4), int64(18), object(3)\n",
      "memory usage: 4.1+ MB\n"
     ]
    }
   ],
   "source": [
    "#Checking the datatypes of the dataset\n",
    "house.info()"
   ]
  },
  {
   "cell_type": "code",
   "execution_count": 7,
   "metadata": {},
   "outputs": [
    {
     "data": {
      "text/html": [
       "<div>\n",
       "<style scoped>\n",
       "    .dataframe tbody tr th:only-of-type {\n",
       "        vertical-align: middle;\n",
       "    }\n",
       "\n",
       "    .dataframe tbody tr th {\n",
       "        vertical-align: top;\n",
       "    }\n",
       "\n",
       "    .dataframe thead th {\n",
       "        text-align: right;\n",
       "    }\n",
       "</style>\n",
       "<table border=\"1\" class=\"dataframe\">\n",
       "  <thead>\n",
       "    <tr style=\"text-align: right;\">\n",
       "      <th></th>\n",
       "      <th>cid</th>\n",
       "      <th>dayhours</th>\n",
       "      <th>price</th>\n",
       "      <th>room_bed</th>\n",
       "      <th>room_bath</th>\n",
       "      <th>living_measure</th>\n",
       "      <th>lot_measure</th>\n",
       "      <th>ceil</th>\n",
       "      <th>coast</th>\n",
       "      <th>sight</th>\n",
       "      <th>condition</th>\n",
       "      <th>quality</th>\n",
       "      <th>ceil_measure</th>\n",
       "      <th>basement</th>\n",
       "      <th>yr_built</th>\n",
       "      <th>yr_renovated</th>\n",
       "      <th>zipcode</th>\n",
       "      <th>City</th>\n",
       "      <th>lat</th>\n",
       "      <th>long</th>\n",
       "      <th>living_measure15</th>\n",
       "      <th>lot_measure15</th>\n",
       "      <th>furnished</th>\n",
       "      <th>Region</th>\n",
       "      <th>total_area</th>\n",
       "    </tr>\n",
       "  </thead>\n",
       "  <tbody>\n",
       "    <tr>\n",
       "      <th>0</th>\n",
       "      <td>3034200666</td>\n",
       "      <td>20141107T000000</td>\n",
       "      <td>808100</td>\n",
       "      <td>4</td>\n",
       "      <td>3.25</td>\n",
       "      <td>3020</td>\n",
       "      <td>13457</td>\n",
       "      <td>1.0</td>\n",
       "      <td>0</td>\n",
       "      <td>0</td>\n",
       "      <td>5</td>\n",
       "      <td>9</td>\n",
       "      <td>3020</td>\n",
       "      <td>0</td>\n",
       "      <td>1956</td>\n",
       "      <td>0</td>\n",
       "      <td>98133</td>\n",
       "      <td>Seattle</td>\n",
       "      <td>47.7174</td>\n",
       "      <td>-122.336</td>\n",
       "      <td>2120</td>\n",
       "      <td>7553</td>\n",
       "      <td>1</td>\n",
       "      <td>North West</td>\n",
       "      <td>16477</td>\n",
       "    </tr>\n",
       "    <tr>\n",
       "      <th>1</th>\n",
       "      <td>8731981640</td>\n",
       "      <td>20141204T000000</td>\n",
       "      <td>277500</td>\n",
       "      <td>4</td>\n",
       "      <td>2.50</td>\n",
       "      <td>2550</td>\n",
       "      <td>7500</td>\n",
       "      <td>1.0</td>\n",
       "      <td>0</td>\n",
       "      <td>0</td>\n",
       "      <td>3</td>\n",
       "      <td>8</td>\n",
       "      <td>1750</td>\n",
       "      <td>800</td>\n",
       "      <td>1976</td>\n",
       "      <td>0</td>\n",
       "      <td>98023</td>\n",
       "      <td>Federal Way</td>\n",
       "      <td>47.3165</td>\n",
       "      <td>-122.386</td>\n",
       "      <td>2260</td>\n",
       "      <td>8800</td>\n",
       "      <td>0</td>\n",
       "      <td>South West</td>\n",
       "      <td>10050</td>\n",
       "    </tr>\n",
       "    <tr>\n",
       "      <th>2</th>\n",
       "      <td>5104530220</td>\n",
       "      <td>20150420T000000</td>\n",
       "      <td>404000</td>\n",
       "      <td>3</td>\n",
       "      <td>2.50</td>\n",
       "      <td>2370</td>\n",
       "      <td>4324</td>\n",
       "      <td>2.0</td>\n",
       "      <td>0</td>\n",
       "      <td>0</td>\n",
       "      <td>3</td>\n",
       "      <td>8</td>\n",
       "      <td>2370</td>\n",
       "      <td>0</td>\n",
       "      <td>2006</td>\n",
       "      <td>0</td>\n",
       "      <td>98038</td>\n",
       "      <td>Maple Valley</td>\n",
       "      <td>47.3515</td>\n",
       "      <td>-121.999</td>\n",
       "      <td>2370</td>\n",
       "      <td>4348</td>\n",
       "      <td>0</td>\n",
       "      <td>South East</td>\n",
       "      <td>6694</td>\n",
       "    </tr>\n",
       "    <tr>\n",
       "      <th>3</th>\n",
       "      <td>6145600285</td>\n",
       "      <td>20140529T000000</td>\n",
       "      <td>300000</td>\n",
       "      <td>2</td>\n",
       "      <td>1.00</td>\n",
       "      <td>820</td>\n",
       "      <td>3844</td>\n",
       "      <td>1.0</td>\n",
       "      <td>0</td>\n",
       "      <td>0</td>\n",
       "      <td>4</td>\n",
       "      <td>6</td>\n",
       "      <td>820</td>\n",
       "      <td>0</td>\n",
       "      <td>1916</td>\n",
       "      <td>0</td>\n",
       "      <td>98133</td>\n",
       "      <td>Seattle</td>\n",
       "      <td>47.7049</td>\n",
       "      <td>-122.349</td>\n",
       "      <td>1520</td>\n",
       "      <td>3844</td>\n",
       "      <td>0</td>\n",
       "      <td>North West</td>\n",
       "      <td>4664</td>\n",
       "    </tr>\n",
       "    <tr>\n",
       "      <th>4</th>\n",
       "      <td>8924100111</td>\n",
       "      <td>20150424T000000</td>\n",
       "      <td>699000</td>\n",
       "      <td>2</td>\n",
       "      <td>1.50</td>\n",
       "      <td>1400</td>\n",
       "      <td>4050</td>\n",
       "      <td>1.0</td>\n",
       "      <td>0</td>\n",
       "      <td>0</td>\n",
       "      <td>4</td>\n",
       "      <td>8</td>\n",
       "      <td>1400</td>\n",
       "      <td>0</td>\n",
       "      <td>1954</td>\n",
       "      <td>0</td>\n",
       "      <td>98115</td>\n",
       "      <td>Seattle</td>\n",
       "      <td>47.6768</td>\n",
       "      <td>-122.269</td>\n",
       "      <td>1900</td>\n",
       "      <td>5940</td>\n",
       "      <td>0</td>\n",
       "      <td>North West</td>\n",
       "      <td>5450</td>\n",
       "    </tr>\n",
       "  </tbody>\n",
       "</table>\n",
       "</div>"
      ],
      "text/plain": [
       "          cid         dayhours   price  room_bed  room_bath  living_measure  \\\n",
       "0  3034200666  20141107T000000  808100         4       3.25            3020   \n",
       "1  8731981640  20141204T000000  277500         4       2.50            2550   \n",
       "2  5104530220  20150420T000000  404000         3       2.50            2370   \n",
       "3  6145600285  20140529T000000  300000         2       1.00             820   \n",
       "4  8924100111  20150424T000000  699000         2       1.50            1400   \n",
       "\n",
       "   lot_measure  ceil  coast  sight  condition  quality  ceil_measure  \\\n",
       "0        13457   1.0      0      0          5        9          3020   \n",
       "1         7500   1.0      0      0          3        8          1750   \n",
       "2         4324   2.0      0      0          3        8          2370   \n",
       "3         3844   1.0      0      0          4        6           820   \n",
       "4         4050   1.0      0      0          4        8          1400   \n",
       "\n",
       "   basement  yr_built  yr_renovated  zipcode          City      lat     long  \\\n",
       "0         0      1956             0    98133       Seattle  47.7174 -122.336   \n",
       "1       800      1976             0    98023   Federal Way  47.3165 -122.386   \n",
       "2         0      2006             0    98038  Maple Valley  47.3515 -121.999   \n",
       "3         0      1916             0    98133       Seattle  47.7049 -122.349   \n",
       "4         0      1954             0    98115       Seattle  47.6768 -122.269   \n",
       "\n",
       "   living_measure15  lot_measure15  furnished      Region  total_area  \n",
       "0              2120           7553          1  North West       16477  \n",
       "1              2260           8800          0  South West       10050  \n",
       "2              2370           4348          0  South East        6694  \n",
       "3              1520           3844          0  North West        4664  \n",
       "4              1900           5940          0  North West        5450  "
      ]
     },
     "execution_count": 7,
     "metadata": {},
     "output_type": "execute_result"
    }
   ],
   "source": [
    "house.head()"
   ]
  },
  {
   "cell_type": "markdown",
   "metadata": {},
   "source": [
    "### Data Cleaning & Feature Engineering"
   ]
  },
  {
   "cell_type": "code",
   "execution_count": 8,
   "metadata": {},
   "outputs": [],
   "source": [
    "#Extracting the year and Month from the dayhours feature\n",
    "house['dayhours']=house['dayhours'].apply(lambda x:x.rstrip('T0'))\n",
    "house['year']=house['dayhours'].apply(lambda x:x[0:4]) # The Year which house was sold\n",
    "house['month']=house['dayhours'].apply(lambda x:x[4:6])\n",
    "house.drop('dayhours',axis=1,inplace=True) #droping the dayhours feature"
   ]
  },
  {
   "cell_type": "code",
   "execution_count": 9,
   "metadata": {},
   "outputs": [],
   "source": [
    "#Dropping the Cid feature\n",
    "house.drop('cid',axis=1,inplace=True)\n",
    "house.drop('zipcode',axis=1,inplace=True) #Already we extracted region column from zipcode"
   ]
  },
  {
   "cell_type": "code",
   "execution_count": 10,
   "metadata": {},
   "outputs": [],
   "source": [
    "#Creating the Two columns\n",
    "house['year']=house['year'].astype('int64')                                                                                                                                                                                                                                                                                                                                                                                                                                                                                                                                                                                                                                                                                                                                                                                                                                                                                                                                                                                                                                                                                                                                                                                                                                                                                                                                                                                                                                                                                                                                                                                                                                                                                                                                                                                                                                                                                                                                                                                                                                                                                                                                                                                                                                                                                                                                                                                                                                                                                                                                                                                                                                                                                                                                                                                                                                                                                                                                                                                                                                                                                                                                                                                                                                                                                                                                                                                                                                                                                                                                                                                                                                                                                                                                                                                                                                                                                                                                                                                                                                                                                                                                                                                                                                                                                                                                                                                                                                                                                                                                                                                                                                                                                                                                                                                                                                                                                                                                                                                                                                                                                                                                                                                                                                                                                                                                                                                                                                                                                                                                                                                                                                                                                                                                                                                                                                                                                                                                                                                                                                                                                                                                                                                                                                                                                                                                                                                                                                                                                                                                                                                                                                                                                                                                                                                                                                                                                                                                                                                                                                                                                                                                                                                                                                                                                                                                                                                                                                                                                                                                                                                                                                                                                                                                                                                                                                                                                                                                                                                                                                                                                                                                                                                                                                                                                                                                                                                                                                                                                                                                                                                                                                                                                                                                                                                                                                                                                                                                                                                                                                                                                                                                                                                                                                                                                                                                                                                                                                                                                                                                                                                                                                                                                                                                                                                                                                                                                                                                                                                                                                                                                                                                                                                                                                                                                                                                                                                                                                                                                                                                                                                                                                                                                                                                                                                                                                                                                                                                                                                                                                                                                                                                                                                                                                                                                                                                                                                                                                                                                                                                                                                                                                                                                                                                                                                                                                                                                                                                                                                                                                                                                                                                                                                                                                                                                                                                                                                                                                                                                                                                                                                                                                                                                                                                                                                                                                                                                                                                                                                                                                                                                                                                                                                                                                                                                                                                                                                                                                                                                                                                                                                                                                                                                                                                                                                                                                                                                                                                                                                                                                                                                                                                                                                                                                                                                                                                                                                                                                                                                                                                                                                                                                                                                                                                                                                                                                                                                                                                                                                                                                                                                                                                                                                                                                                                                                                                                                                                                                                                                                                                                                                                                                                                                                                                                                                                                                                                                                                                                                                                                                                                                                                                                                                                                                                                                                                                                                                                                                                                                                                                                                                                                                                                                                                                                                                                                                                                                                                                                                                                                                                                                                                                                                                                                                                                                                                                                                                                                                                                                                                                                                                                                                                                                                                                                                                                                                                                                                                                                                                                                                                                                                                                                                                                                                                                                                                                                                                                                                                                                                                                                                                                                                                                                                                                                                                                                                                                                                                                                                                                                                                                                                                                                                                                                                                                                                                                                                                                                                                                                                                                                                                                                                                                                                                                                                                                                                                                                                                                                                                                                                                                                                                                                                                                                                                                                                                                                                                                                                                                                                                                                                                                                                                                                                                                                                                                                                                                                                                                                                                                                                                                                                                                                                                                                                                                                                                                                                                                                                                                                                                                                                                                                                                                                                                                                                                                                                                                                                                                                                                                                                                                                                                                                                                                                                                                                                                                                                                                                                                                                                                                                                                                                                                                                                                                                                                                                                                                                                                                                                                                                                                                                                                                                                                                                                                                                                                                                                                                                                                                                                                                                                                                                                                                                                                                                                                                                                                                                                                                                                                                                                                                                                                                                                                                                                                                                                                                                                                                                                                                                                                                                                                                                                                                                                                                                                                                                                                                                                                                                                                                                                                                                                                                                                                                                                                                                                                                                                                                                                                                                                                                                                                                                                                                                                                                                                                                                                                                                                                                                                                                                                                                                                                                                                                                                                                                                                                                                                                                                                                                                                                                                                                                                                                                                                                                                                                                                                                                                                                                                                                                                                                                                                                                                                                                                                                                                                                                                                                                                                                                                                                                                                                                                                                                                                                                                                                                                                                                                                                                                                                                                                                                                                                                                                                                                                                                                                                                                                                                                                                                                                                                                                                                                                                                                                                                                                                                                                                                                                                                                                                                                                                                                                                                                                                                                                                                                                                                                                                                                                                                                                                                                                                                                                                                                                                                                                                                                                                                                                                                                                                                                                                                                                                                                                                                                                                                                                                                                                                                                                                                                                                                                                                                                                                                                                                                                                                                                                                                                                                                                                                                                                                                                                                                                                                                                                                                                                                                                                                                                                                                                                                                                                                                                                                                                                                                                                                                                                                                                                                                                                                                                                                                                                                                                                                                                                                                                                                                                                                                                                                                                                                                                                                                                                                                                                                                                                                                                                                                                                                                                                                                                                                                                                                                                                                                                                                                                                                                                                                                                                                                                                                                                                                                                                                                                                                                                                                                                                                                                                                                                                                                                                                                                                                                                                                                                                                                                                                                                                                                                                                                                                                                                                                                                                                                                                                                                                                                                                                                                                                                                                                \n",
    "house['age']=house['year']-house['yr_built'] # Age of the house\n",
    "house['rage']=house['year']-house['yr_renovated'] # The Age of the house after renovation done\n",
    "house.drop(['yr_built','yr_renovated','year'],axis=1,inplace=True) # Removal of these columns"
   ]
  },
  {
   "cell_type": "code",
   "execution_count": 11,
   "metadata": {},
   "outputs": [],
   "source": [
    "#Some of the columns shows datatype as numerical but it should be categorical so,changed columns to object\n",
    "house[['room_bed','ceil','coast','sight','condition','quality','furnished','room_bath','age','rage']]=house[['room_bed','ceil','coast','sight','condition','quality','furnished','room_bath','age','rage']].astype('object')"
   ]
  },
  {
   "cell_type": "markdown",
   "metadata": {},
   "source": [
    "### Extracting Numerical Columns and Applying Zscore"
   ]
  },
  {
   "cell_type": "code",
   "execution_count": 12,
   "metadata": {},
   "outputs": [
    {
     "data": {
      "text/plain": [
       "Index(['living_measure', 'lot_measure', 'ceil_measure', 'basement', 'lat',\n",
       "       'long', 'living_measure15', 'lot_measure15', 'total_area'],\n",
       "      dtype='object')"
      ]
     },
     "execution_count": 12,
     "metadata": {},
     "output_type": "execute_result"
    }
   ],
   "source": [
    "#Extracting num cols and we are not applying zscore for price feature\n",
    "num_cols=house.select_dtypes(['int64','float64']).columns\n",
    "num_cols1=num_cols[1:]\n",
    "num_cols1"
   ]
  },
  {
   "cell_type": "code",
   "execution_count": 13,
   "metadata": {},
   "outputs": [],
   "source": [
    "#Exrtacting numerical features to house_num dataframe\n",
    "house_num=house[num_cols1]"
   ]
  },
  {
   "cell_type": "code",
   "execution_count": 14,
   "metadata": {},
   "outputs": [
    {
     "data": {
      "text/html": [
       "<div>\n",
       "<style scoped>\n",
       "    .dataframe tbody tr th:only-of-type {\n",
       "        vertical-align: middle;\n",
       "    }\n",
       "\n",
       "    .dataframe tbody tr th {\n",
       "        vertical-align: top;\n",
       "    }\n",
       "\n",
       "    .dataframe thead th {\n",
       "        text-align: right;\n",
       "    }\n",
       "</style>\n",
       "<table border=\"1\" class=\"dataframe\">\n",
       "  <thead>\n",
       "    <tr style=\"text-align: right;\">\n",
       "      <th></th>\n",
       "      <th>living_measure</th>\n",
       "      <th>lot_measure</th>\n",
       "      <th>ceil_measure</th>\n",
       "      <th>basement</th>\n",
       "      <th>lat</th>\n",
       "      <th>long</th>\n",
       "      <th>living_measure15</th>\n",
       "      <th>lot_measure15</th>\n",
       "      <th>total_area</th>\n",
       "    </tr>\n",
       "  </thead>\n",
       "  <tbody>\n",
       "    <tr>\n",
       "      <th>0</th>\n",
       "      <td>1.023606</td>\n",
       "      <td>-0.039835</td>\n",
       "      <td>1.487322</td>\n",
       "      <td>-0.658681</td>\n",
       "      <td>1.135587</td>\n",
       "      <td>-0.867059</td>\n",
       "      <td>0.194707</td>\n",
       "      <td>-0.191018</td>\n",
       "      <td>-0.017069</td>\n",
       "    </tr>\n",
       "    <tr>\n",
       "      <th>1</th>\n",
       "      <td>0.511858</td>\n",
       "      <td>-0.183656</td>\n",
       "      <td>-0.046362</td>\n",
       "      <td>1.148964</td>\n",
       "      <td>-1.757734</td>\n",
       "      <td>-1.222109</td>\n",
       "      <td>0.398975</td>\n",
       "      <td>-0.145346</td>\n",
       "      <td>-0.171608</td>\n",
       "    </tr>\n",
       "    <tr>\n",
       "      <th>2</th>\n",
       "      <td>0.315869</td>\n",
       "      <td>-0.260335</td>\n",
       "      <td>0.702366</td>\n",
       "      <td>-0.658681</td>\n",
       "      <td>-1.505137</td>\n",
       "      <td>1.525981</td>\n",
       "      <td>0.559471</td>\n",
       "      <td>-0.308402</td>\n",
       "      <td>-0.252304</td>\n",
       "    </tr>\n",
       "    <tr>\n",
       "      <th>3</th>\n",
       "      <td>-1.371813</td>\n",
       "      <td>-0.271924</td>\n",
       "      <td>-1.169453</td>\n",
       "      <td>-0.658681</td>\n",
       "      <td>1.045374</td>\n",
       "      <td>-0.959372</td>\n",
       "      <td>-0.680725</td>\n",
       "      <td>-0.326861</td>\n",
       "      <td>-0.301116</td>\n",
       "    </tr>\n",
       "    <tr>\n",
       "      <th>4</th>\n",
       "      <td>-0.740293</td>\n",
       "      <td>-0.266950</td>\n",
       "      <td>-0.469030</td>\n",
       "      <td>-0.658681</td>\n",
       "      <td>0.842574</td>\n",
       "      <td>-0.391291</td>\n",
       "      <td>-0.126285</td>\n",
       "      <td>-0.250094</td>\n",
       "      <td>-0.282217</td>\n",
       "    </tr>\n",
       "  </tbody>\n",
       "</table>\n",
       "</div>"
      ],
      "text/plain": [
       "   living_measure  lot_measure  ceil_measure  basement       lat      long  \\\n",
       "0        1.023606    -0.039835      1.487322 -0.658681  1.135587 -0.867059   \n",
       "1        0.511858    -0.183656     -0.046362  1.148964 -1.757734 -1.222109   \n",
       "2        0.315869    -0.260335      0.702366 -0.658681 -1.505137  1.525981   \n",
       "3       -1.371813    -0.271924     -1.169453 -0.658681  1.045374 -0.959372   \n",
       "4       -0.740293    -0.266950     -0.469030 -0.658681  0.842574 -0.391291   \n",
       "\n",
       "   living_measure15  lot_measure15  total_area  \n",
       "0          0.194707      -0.191018   -0.017069  \n",
       "1          0.398975      -0.145346   -0.171608  \n",
       "2          0.559471      -0.308402   -0.252304  \n",
       "3         -0.680725      -0.326861   -0.301116  \n",
       "4         -0.126285      -0.250094   -0.282217  "
      ]
     },
     "execution_count": 14,
     "metadata": {},
     "output_type": "execute_result"
    }
   ],
   "source": [
    "#Applying zscore to numerical features\n",
    "house_num[num_cols1]=house_num[num_cols1].apply(zscore)\n",
    "house_num.head()"
   ]
  },
  {
   "cell_type": "markdown",
   "metadata": {},
   "source": [
    "#### Outlier Treatment"
   ]
  },
  {
   "cell_type": "code",
   "execution_count": 15,
   "metadata": {},
   "outputs": [],
   "source": [
    "# EXtracting the outliers and replacing with them null values\n",
    "for i in range(len(num_cols1)):  # number of columns\n",
    "    for j in range(len(house_num)):  # number of rows\n",
    "        if abs(house_num[num_cols1[i]][j])>3:  # condition to extract outliers\n",
    "            house_num[num_cols1[i]].replace({house_num[num_cols1[i]][j]:np.nan},inplace=True)"
   ]
  },
  {
   "cell_type": "code",
   "execution_count": 16,
   "metadata": {},
   "outputs": [
    {
     "data": {
      "text/plain": [
       "living_measure      248\n",
       "lot_measure         347\n",
       "ceil_measure        254\n",
       "basement            247\n",
       "lat                   0\n",
       "long                233\n",
       "living_measure15    237\n",
       "lot_measure15       363\n",
       "total_area          346\n",
       "dtype: int64"
      ]
     },
     "execution_count": 16,
     "metadata": {},
     "output_type": "execute_result"
    }
   ],
   "source": [
    "#Chceking the null values in the after replacement of outliers with null\n",
    "house_num.isnull().sum()"
   ]
  },
  {
   "cell_type": "markdown",
   "metadata": {},
   "source": [
    "### Data Prepration"
   ]
  },
  {
   "cell_type": "code",
   "execution_count": 17,
   "metadata": {},
   "outputs": [],
   "source": [
    "#Dropping the numerical columns in the orginal house dataset\n",
    "house.drop(['living_measure', 'lot_measure', 'ceil_measure', 'basement', 'lat',\n",
    "       'long', 'living_measure15', 'lot_measure15', 'total_area'],axis=1,inplace=True)"
   ]
  },
  {
   "cell_type": "code",
   "execution_count": 18,
   "metadata": {},
   "outputs": [
    {
     "data": {
      "text/html": [
       "<div>\n",
       "<style scoped>\n",
       "    .dataframe tbody tr th:only-of-type {\n",
       "        vertical-align: middle;\n",
       "    }\n",
       "\n",
       "    .dataframe tbody tr th {\n",
       "        vertical-align: top;\n",
       "    }\n",
       "\n",
       "    .dataframe thead th {\n",
       "        text-align: right;\n",
       "    }\n",
       "</style>\n",
       "<table border=\"1\" class=\"dataframe\">\n",
       "  <thead>\n",
       "    <tr style=\"text-align: right;\">\n",
       "      <th></th>\n",
       "      <th>price</th>\n",
       "      <th>room_bed</th>\n",
       "      <th>room_bath</th>\n",
       "      <th>ceil</th>\n",
       "      <th>coast</th>\n",
       "      <th>sight</th>\n",
       "      <th>condition</th>\n",
       "      <th>quality</th>\n",
       "      <th>City</th>\n",
       "      <th>furnished</th>\n",
       "      <th>Region</th>\n",
       "      <th>month</th>\n",
       "      <th>age</th>\n",
       "      <th>rage</th>\n",
       "      <th>living_measure</th>\n",
       "      <th>lot_measure</th>\n",
       "      <th>ceil_measure</th>\n",
       "      <th>basement</th>\n",
       "      <th>lat</th>\n",
       "      <th>long</th>\n",
       "      <th>living_measure15</th>\n",
       "      <th>lot_measure15</th>\n",
       "      <th>total_area</th>\n",
       "    </tr>\n",
       "  </thead>\n",
       "  <tbody>\n",
       "    <tr>\n",
       "      <th>0</th>\n",
       "      <td>808100</td>\n",
       "      <td>4</td>\n",
       "      <td>3.25</td>\n",
       "      <td>1</td>\n",
       "      <td>0</td>\n",
       "      <td>0</td>\n",
       "      <td>5</td>\n",
       "      <td>9</td>\n",
       "      <td>Seattle</td>\n",
       "      <td>1</td>\n",
       "      <td>North West</td>\n",
       "      <td>11</td>\n",
       "      <td>58</td>\n",
       "      <td>2014</td>\n",
       "      <td>1.023606</td>\n",
       "      <td>-0.039835</td>\n",
       "      <td>1.487322</td>\n",
       "      <td>-0.658681</td>\n",
       "      <td>1.135587</td>\n",
       "      <td>-0.867059</td>\n",
       "      <td>0.194707</td>\n",
       "      <td>-0.191018</td>\n",
       "      <td>-0.017069</td>\n",
       "    </tr>\n",
       "    <tr>\n",
       "      <th>1</th>\n",
       "      <td>277500</td>\n",
       "      <td>4</td>\n",
       "      <td>2.5</td>\n",
       "      <td>1</td>\n",
       "      <td>0</td>\n",
       "      <td>0</td>\n",
       "      <td>3</td>\n",
       "      <td>8</td>\n",
       "      <td>Federal Way</td>\n",
       "      <td>0</td>\n",
       "      <td>South West</td>\n",
       "      <td>12</td>\n",
       "      <td>38</td>\n",
       "      <td>2014</td>\n",
       "      <td>0.511858</td>\n",
       "      <td>-0.183656</td>\n",
       "      <td>-0.046362</td>\n",
       "      <td>1.148964</td>\n",
       "      <td>-1.757734</td>\n",
       "      <td>-1.222109</td>\n",
       "      <td>0.398975</td>\n",
       "      <td>-0.145346</td>\n",
       "      <td>-0.171608</td>\n",
       "    </tr>\n",
       "    <tr>\n",
       "      <th>2</th>\n",
       "      <td>404000</td>\n",
       "      <td>3</td>\n",
       "      <td>2.5</td>\n",
       "      <td>2</td>\n",
       "      <td>0</td>\n",
       "      <td>0</td>\n",
       "      <td>3</td>\n",
       "      <td>8</td>\n",
       "      <td>Maple Valley</td>\n",
       "      <td>0</td>\n",
       "      <td>South East</td>\n",
       "      <td>04</td>\n",
       "      <td>9</td>\n",
       "      <td>2015</td>\n",
       "      <td>0.315869</td>\n",
       "      <td>-0.260335</td>\n",
       "      <td>0.702366</td>\n",
       "      <td>-0.658681</td>\n",
       "      <td>-1.505137</td>\n",
       "      <td>1.525981</td>\n",
       "      <td>0.559471</td>\n",
       "      <td>-0.308402</td>\n",
       "      <td>-0.252304</td>\n",
       "    </tr>\n",
       "    <tr>\n",
       "      <th>3</th>\n",
       "      <td>300000</td>\n",
       "      <td>2</td>\n",
       "      <td>1</td>\n",
       "      <td>1</td>\n",
       "      <td>0</td>\n",
       "      <td>0</td>\n",
       "      <td>4</td>\n",
       "      <td>6</td>\n",
       "      <td>Seattle</td>\n",
       "      <td>0</td>\n",
       "      <td>North West</td>\n",
       "      <td>05</td>\n",
       "      <td>98</td>\n",
       "      <td>2014</td>\n",
       "      <td>-1.371813</td>\n",
       "      <td>-0.271924</td>\n",
       "      <td>-1.169453</td>\n",
       "      <td>-0.658681</td>\n",
       "      <td>1.045374</td>\n",
       "      <td>-0.959372</td>\n",
       "      <td>-0.680725</td>\n",
       "      <td>-0.326861</td>\n",
       "      <td>-0.301116</td>\n",
       "    </tr>\n",
       "    <tr>\n",
       "      <th>4</th>\n",
       "      <td>699000</td>\n",
       "      <td>2</td>\n",
       "      <td>1.5</td>\n",
       "      <td>1</td>\n",
       "      <td>0</td>\n",
       "      <td>0</td>\n",
       "      <td>4</td>\n",
       "      <td>8</td>\n",
       "      <td>Seattle</td>\n",
       "      <td>0</td>\n",
       "      <td>North West</td>\n",
       "      <td>04</td>\n",
       "      <td>61</td>\n",
       "      <td>2015</td>\n",
       "      <td>-0.740293</td>\n",
       "      <td>-0.266950</td>\n",
       "      <td>-0.469030</td>\n",
       "      <td>-0.658681</td>\n",
       "      <td>0.842574</td>\n",
       "      <td>-0.391291</td>\n",
       "      <td>-0.126285</td>\n",
       "      <td>-0.250094</td>\n",
       "      <td>-0.282217</td>\n",
       "    </tr>\n",
       "  </tbody>\n",
       "</table>\n",
       "</div>"
      ],
      "text/plain": [
       "    price room_bed room_bath ceil coast sight condition quality          City  \\\n",
       "0  808100        4      3.25    1     0     0         5       9       Seattle   \n",
       "1  277500        4       2.5    1     0     0         3       8   Federal Way   \n",
       "2  404000        3       2.5    2     0     0         3       8  Maple Valley   \n",
       "3  300000        2         1    1     0     0         4       6       Seattle   \n",
       "4  699000        2       1.5    1     0     0         4       8       Seattle   \n",
       "\n",
       "  furnished      Region month age  rage  living_measure  lot_measure  \\\n",
       "0         1  North West    11  58  2014        1.023606    -0.039835   \n",
       "1         0  South West    12  38  2014        0.511858    -0.183656   \n",
       "2         0  South East    04   9  2015        0.315869    -0.260335   \n",
       "3         0  North West    05  98  2014       -1.371813    -0.271924   \n",
       "4         0  North West    04  61  2015       -0.740293    -0.266950   \n",
       "\n",
       "   ceil_measure  basement       lat      long  living_measure15  \\\n",
       "0      1.487322 -0.658681  1.135587 -0.867059          0.194707   \n",
       "1     -0.046362  1.148964 -1.757734 -1.222109          0.398975   \n",
       "2      0.702366 -0.658681 -1.505137  1.525981          0.559471   \n",
       "3     -1.169453 -0.658681  1.045374 -0.959372         -0.680725   \n",
       "4     -0.469030 -0.658681  0.842574 -0.391291         -0.126285   \n",
       "\n",
       "   lot_measure15  total_area  \n",
       "0      -0.191018   -0.017069  \n",
       "1      -0.145346   -0.171608  \n",
       "2      -0.308402   -0.252304  \n",
       "3      -0.326861   -0.301116  \n",
       "4      -0.250094   -0.282217  "
      ]
     },
     "execution_count": 18,
     "metadata": {},
     "output_type": "execute_result"
    }
   ],
   "source": [
    "#Concating house_num data to original house data\n",
    "housef=pd.concat([house,house_num],axis=1)\n",
    "housef.head()"
   ]
  },
  {
   "cell_type": "code",
   "execution_count": 19,
   "metadata": {},
   "outputs": [],
   "source": [
    "housef.drop(['City','price'],axis=1,inplace=True)"
   ]
  },
  {
   "cell_type": "code",
   "execution_count": 20,
   "metadata": {},
   "outputs": [],
   "source": [
    "#Applying the label Encoder for some specific columns\n",
    "labels=['age','room_bath','rage','ceil']\n",
    "from sklearn.preprocessing import LabelEncoder\n",
    "le=LabelEncoder()\n",
    "for i in labels:\n",
    "    housef[i]=le.fit_transform(house[i])"
   ]
  },
  {
   "cell_type": "code",
   "execution_count": 21,
   "metadata": {},
   "outputs": [],
   "source": [
    "#Get dummies for Region column\n",
    "housef=pd.get_dummies(housef,columns=['Region'],drop_first=True)"
   ]
  },
  {
   "cell_type": "markdown",
   "metadata": {},
   "source": [
    "### MICE"
   ]
  },
  {
   "cell_type": "code",
   "execution_count": 22,
   "metadata": {},
   "outputs": [],
   "source": [
    "from impyute.imputation.cs import mice # Importing the MICE"
   ]
  },
  {
   "cell_type": "code",
   "execution_count": 23,
   "metadata": {},
   "outputs": [],
   "source": [
    "allcols=housef.columns # Getting all columns"
   ]
  },
  {
   "cell_type": "code",
   "execution_count": 24,
   "metadata": {},
   "outputs": [],
   "source": [
    "housef[allcols]=housef[allcols].astype('float64') # For MICE every feature should be in Numerical"
   ]
  },
  {
   "cell_type": "code",
   "execution_count": 25,
   "metadata": {},
   "outputs": [],
   "source": [
    "#Applying MICE to the whole dataset\n",
    "house_mice=mice(housef)"
   ]
  },
  {
   "cell_type": "code",
   "execution_count": 26,
   "metadata": {},
   "outputs": [],
   "source": [
    "house_mice.columns=housef.columns"
   ]
  },
  {
   "cell_type": "code",
   "execution_count": 27,
   "metadata": {},
   "outputs": [],
   "source": [
    "# For MICE we have converted all features to numerical, so we are again converting to original datatype\n",
    "cat_cols=['room_bed', 'room_bath', 'ceil', 'coast', 'sight', 'condition',\n",
    "       'quality', 'furnished', 'month', 'age', 'rage',\n",
    "       'Region_North East', 'Region_North West', 'Region_South East',\n",
    "       'Region_South West']\n",
    "house_mice[cat_cols]=house_mice[cat_cols].astype('object')"
   ]
  },
  {
   "cell_type": "code",
   "execution_count": 28,
   "metadata": {},
   "outputs": [
    {
     "name": "stdout",
     "output_type": "stream",
     "text": [
      "<class 'pandas.core.frame.DataFrame'>\n",
      "RangeIndex: 21613 entries, 0 to 21612\n",
      "Data columns (total 24 columns):\n",
      "room_bed             21613 non-null object\n",
      "room_bath            21613 non-null object\n",
      "ceil                 21613 non-null object\n",
      "coast                21613 non-null object\n",
      "sight                21613 non-null object\n",
      "condition            21613 non-null object\n",
      "quality              21613 non-null object\n",
      "furnished            21613 non-null object\n",
      "month                21613 non-null object\n",
      "age                  21613 non-null object\n",
      "rage                 21613 non-null object\n",
      "living_measure       21613 non-null float64\n",
      "lot_measure          21613 non-null float64\n",
      "ceil_measure         21613 non-null float64\n",
      "basement             21613 non-null float64\n",
      "lat                  21613 non-null float64\n",
      "long                 21613 non-null float64\n",
      "living_measure15     21613 non-null float64\n",
      "lot_measure15        21613 non-null float64\n",
      "total_area           21613 non-null float64\n",
      "Region_North East    21613 non-null object\n",
      "Region_North West    21613 non-null object\n",
      "Region_South East    21613 non-null object\n",
      "Region_South West    21613 non-null object\n",
      "dtypes: float64(9), object(15)\n",
      "memory usage: 4.0+ MB\n"
     ]
    }
   ],
   "source": [
    "house_mice.info()"
   ]
  },
  {
   "cell_type": "markdown",
   "metadata": {},
   "source": [
    "### Model Buliding"
   ]
  },
  {
   "cell_type": "code",
   "execution_count": 29,
   "metadata": {},
   "outputs": [],
   "source": [
    "from sklearn.tree import DecisionTreeRegressor\n",
    "from sklearn.ensemble import RandomForestRegressor,AdaBoostRegressor,BaggingRegressor,GradientBoostingRegressor\n",
    "from sklearn.neighbors import KNeighborsRegressor\n",
    "from sklearn.linear_model import LinearRegression\n",
    "from sklearn.model_selection import train_test_split\n",
    "from sklearn.metrics import mean_squared_error"
   ]
  },
  {
   "cell_type": "code",
   "execution_count": 30,
   "metadata": {},
   "outputs": [],
   "source": [
    "Xtrain,Xtest,Ytrain,Ytest=train_test_split(house_mice,y,test_size=0.2,random_state=10)"
   ]
  },
  {
   "cell_type": "code",
   "execution_count": 31,
   "metadata": {},
   "outputs": [
    {
     "data": {
      "text/plain": [
       "(17290, 24)"
      ]
     },
     "execution_count": 31,
     "metadata": {},
     "output_type": "execute_result"
    }
   ],
   "source": [
    "Xtrain.shape"
   ]
  },
  {
   "cell_type": "code",
   "execution_count": 32,
   "metadata": {
    "scrolled": true
   },
   "outputs": [
    {
     "name": "stdout",
     "output_type": "stream",
     "text": [
      "The Training Accuracy is 72.88767528461347\n",
      "The Test Accuracy is  74.09128444321826\n",
      "The Train RMSE for Linear Regression is 192523.68580453593\n",
      "The Test RMSE for Linear Regression is 182009.57245291714\n"
     ]
    }
   ],
   "source": [
    "lr=LinearRegression()\n",
    "lr.fit(Xtrain,Ytrain)\n",
    "ytrain_lr=lr.predict(Xtrain)\n",
    "ypred_lr=lr.predict(Xtest)\n",
    "a=lr.score(Xtrain,Ytrain) # TRAINING ACCRACY\n",
    "b=lr.score(Xtest,Ytest)  # TEST ACCURACY\n",
    "print(\"The Training Accuracy is\",a*100) \n",
    "print(\"The Test Accuracy is \",b*100)\n",
    "rmse_lr=np.sqrt(mean_squared_error(Ytrain,ytrain_lr)) # TRAIN RMSE\n",
    "rmse_lr1=np.sqrt(mean_squared_error(Ytest,ypred_lr)) #TEST RMSE\n",
    "print(\"The Train RMSE for Linear Regression is\",rmse_lr)\n",
    "print(\"The Test RMSE for Linear Regression is\",rmse_lr1)"
   ]
  },
  {
   "cell_type": "code",
   "execution_count": 33,
   "metadata": {},
   "outputs": [
    {
     "data": {
      "text/html": [
       "<div>\n",
       "<style scoped>\n",
       "    .dataframe tbody tr th:only-of-type {\n",
       "        vertical-align: middle;\n",
       "    }\n",
       "\n",
       "    .dataframe tbody tr th {\n",
       "        vertical-align: top;\n",
       "    }\n",
       "\n",
       "    .dataframe thead th {\n",
       "        text-align: right;\n",
       "    }\n",
       "</style>\n",
       "<table border=\"1\" class=\"dataframe\">\n",
       "  <thead>\n",
       "    <tr style=\"text-align: right;\">\n",
       "      <th></th>\n",
       "      <th>columns</th>\n",
       "      <th>Coeffciants</th>\n",
       "    </tr>\n",
       "  </thead>\n",
       "  <tbody>\n",
       "    <tr>\n",
       "      <th>0</th>\n",
       "      <td>room_bed</td>\n",
       "      <td>-20942.669264</td>\n",
       "    </tr>\n",
       "    <tr>\n",
       "      <th>1</th>\n",
       "      <td>room_bath</td>\n",
       "      <td>11324.519108</td>\n",
       "    </tr>\n",
       "    <tr>\n",
       "      <th>2</th>\n",
       "      <td>ceil</td>\n",
       "      <td>7125.690896</td>\n",
       "    </tr>\n",
       "    <tr>\n",
       "      <th>3</th>\n",
       "      <td>coast</td>\n",
       "      <td>567309.112705</td>\n",
       "    </tr>\n",
       "    <tr>\n",
       "      <th>4</th>\n",
       "      <td>sight</td>\n",
       "      <td>47519.430510</td>\n",
       "    </tr>\n",
       "  </tbody>\n",
       "</table>\n",
       "</div>"
      ],
      "text/plain": [
       "     columns    Coeffciants\n",
       "0   room_bed  -20942.669264\n",
       "1  room_bath   11324.519108\n",
       "2       ceil    7125.690896\n",
       "3      coast  567309.112705\n",
       "4      sight   47519.430510"
      ]
     },
     "execution_count": 33,
     "metadata": {},
     "output_type": "execute_result"
    }
   ],
   "source": [
    "df=pd.DataFrame({'columns':Xtrain.columns})\n",
    "#lr.coef_\n",
    "df['Coeffciants']=lr.coef_\n",
    "df.head()"
   ]
  },
  {
   "cell_type": "code",
   "execution_count": 34,
   "metadata": {},
   "outputs": [
    {
     "data": {
      "text/plain": [
       "Index(['room_bed', 'room_bath', 'ceil', 'coast', 'sight', 'condition',\n",
       "       'quality', 'furnished', 'month', 'age', 'rage', 'living_measure',\n",
       "       'lot_measure', 'ceil_measure', 'basement', 'lat', 'long',\n",
       "       'living_measure15', 'lot_measure15', 'total_area', 'Region_North East',\n",
       "       'Region_North West', 'Region_South East', 'Region_South West'],\n",
       "      dtype='object')"
      ]
     },
     "execution_count": 34,
     "metadata": {},
     "output_type": "execute_result"
    }
   ],
   "source": [
    "Xtrain.columns"
   ]
  },
  {
   "cell_type": "code",
   "execution_count": 35,
   "metadata": {},
   "outputs": [
    {
     "name": "stdout",
     "output_type": "stream",
     "text": [
      "The Training Accuracy is 97.18247619967025\n",
      "The Test Accuracy is  84.05780670894349\n",
      "The TRAIN RMSE for Random is 62063.26021313107\n",
      "The TEST RMSE for Random Forest Regression is 142772.74949593627\n"
     ]
    }
   ],
   "source": [
    "rf=RandomForestRegressor()\n",
    "rf.fit(Xtrain,Ytrain)\n",
    "ytrain_rf=rf.predict(Xtrain)\n",
    "ypred_rf=rf.predict(Xtest)\n",
    "c=rf.score(Xtrain,Ytrain) # TRAIN ACCURAY\n",
    "d=rf.score(Xtest,Ytest) #TEST ACCURACY\n",
    "print(\"The Training Accuracy is\",c*100) \n",
    "print(\"The Test Accuracy is \",d*100) \n",
    "rmse_rf=np.sqrt(mean_squared_error(Ytrain,ytrain_rf)) # TRANING RMSE\n",
    "rmse_rf1=np.sqrt(mean_squared_error(Ytest,ypred_rf)) # TEST RMSE\n",
    "print(\"The TRAIN RMSE for Random is\",rmse_rf)\n",
    "print(\"The TEST RMSE for Random Forest Regression is\",rmse_rf1)"
   ]
  },
  {
   "cell_type": "code",
   "execution_count": 36,
   "metadata": {},
   "outputs": [
    {
     "name": "stdout",
     "output_type": "stream",
     "text": [
      "The Training Accuracy is 89.13331270340964\n",
      "The Test Accuracy is  84.97891349932802\n",
      "The TRAIN RMSE for Gradient Regression is 121884.75082129551\n",
      "The TEST RMSE for Gradient Regression is 138586.83017678437\n"
     ]
    }
   ],
   "source": [
    "gb=GradientBoostingRegressor()\n",
    "gb.fit(Xtrain,Ytrain)\n",
    "ypred_gb=gb.predict(Xtest)\n",
    "ytrain_gb=gb.predict(Xtrain)\n",
    "e=gb.score(Xtrain,Ytrain) # TRAIN ACCURACY\n",
    "f=gb.score(Xtest,Ytest) #TEST ACCURACY\n",
    "print(\"The Training Accuracy is\",e*100) \n",
    "print(\"The Test Accuracy is \",f*100) \n",
    "rmse_gb=np.sqrt(mean_squared_error(Ytrain,ytrain_gb)) #TRAIN RMSE\n",
    "rmse_gb1=np.sqrt(mean_squared_error(Ytest,ypred_gb)) # TEST RMSE\n",
    "print(\"The TRAIN RMSE for Gradient Regression is\",rmse_gb)\n",
    "print(\"The TEST RMSE for Gradient Regression is\",rmse_gb1)"
   ]
  },
  {
   "cell_type": "code",
   "execution_count": 37,
   "metadata": {},
   "outputs": [
    {
     "name": "stdout",
     "output_type": "stream",
     "text": [
      "The Training Accuracy is 88.62760248226974\n",
      "The Test Accuracy is  85.31775268909544\n",
      "The TRAIN RMSE for Bagging Regression is 124688.61610732063\n",
      "The TEST RMSE for Bagging Regression is 137014.82348140524\n"
     ]
    }
   ],
   "source": [
    "gb=GradientBoostingRegressor(random_state=100)\n",
    "bg=BaggingRegressor(base_estimator=gb)\n",
    "bg.fit(Xtrain,Ytrain)\n",
    "ypred_bg=bg.predict(Xtest)\n",
    "ytrain_bg=bg.predict(Xtrain)\n",
    "g=bg.score(Xtrain,Ytrain)\n",
    "h=bg.score(Xtest,Ytest)\n",
    "print(\"The Training Accuracy is\",g*100)  #RAIN ACCURACY\n",
    "print(\"The Test Accuracy is \",h*100)  # TEST ACCURACY\n",
    "rmse_bg=np.sqrt(mean_squared_error(Ytrain,ytrain_bg)) #TRAIN RMSE\n",
    "rmse_bg1=np.sqrt(mean_squared_error(Ytest,ypred_bg)) #TEST RMSE\n",
    "print(\"The TRAIN RMSE for Bagging Regression is\",rmse_bg)\n",
    "print(\"The TEST RMSE for Bagging Regression is\",rmse_bg1)"
   ]
  },
  {
   "cell_type": "code",
   "execution_count": 38,
   "metadata": {},
   "outputs": [],
   "source": [
    "models=[ypred_lr,ypred_rf,ypred_gb,ypred_bg]\n",
    "r2_score=[]\n",
    "adr2_score=[]\n",
    "for i in models:\n",
    "    SS_Residual = sum((Ytest-i)**2)\n",
    "    SS_Total = sum((Ytest-np.mean(Ytest))**2)\n",
    "    r_squared = 1 - (float(SS_Residual))/SS_Total\n",
    "    r2_score.append(r_squared*100)\n",
    "    adjusted_r_squared = 1 - (1-r_squared)*(len(Ytest)-1)/(len(Ytest)-Xtrain.shape[1]-1)\n",
    "    adr2_score.append(adjusted_r_squared*100)"
   ]
  },
  {
   "cell_type": "markdown",
   "metadata": {},
   "source": [
    "### BEST MODEL"
   ]
  },
  {
   "cell_type": "code",
   "execution_count": 39,
   "metadata": {},
   "outputs": [],
   "source": [
    "bestmodel=pd.DataFrame({'Model':['LR','RF','GB','BG']})\n",
    "bestmodel['Train RMSE']=[round(rmse_lr),round(rmse_rf),round(rmse_gb),round(rmse_bg)]\n",
    "bestmodel['Test RMSE']=[round(rmse_lr1),round(rmse_rf1),round(rmse_gb1),round(rmse_bg1)]\n",
    "bestmodel['Train R2_Score %']=[round(a*100,2),round(c*100,2),round(e*100,2),round(g*100,2)]\n",
    "bestmodel['Test R2_Score %']=[round(b*100,2),round(d*100,2),round(f*100,2),round(h*100,2)]\n",
    "bestmodel['Adj_Score']=adr2_score"
   ]
  },
  {
   "cell_type": "code",
   "execution_count": 40,
   "metadata": {},
   "outputs": [
    {
     "data": {
      "text/html": [
       "<div>\n",
       "<style scoped>\n",
       "    .dataframe tbody tr th:only-of-type {\n",
       "        vertical-align: middle;\n",
       "    }\n",
       "\n",
       "    .dataframe tbody tr th {\n",
       "        vertical-align: top;\n",
       "    }\n",
       "\n",
       "    .dataframe thead th {\n",
       "        text-align: right;\n",
       "    }\n",
       "</style>\n",
       "<table border=\"1\" class=\"dataframe\">\n",
       "  <thead>\n",
       "    <tr style=\"text-align: right;\">\n",
       "      <th></th>\n",
       "      <th>Model</th>\n",
       "      <th>Train RMSE</th>\n",
       "      <th>Test RMSE</th>\n",
       "      <th>Train R2_Score %</th>\n",
       "      <th>Test R2_Score %</th>\n",
       "      <th>Adj_Score</th>\n",
       "    </tr>\n",
       "  </thead>\n",
       "  <tbody>\n",
       "    <tr>\n",
       "      <th>0</th>\n",
       "      <td>LR</td>\n",
       "      <td>192524.0</td>\n",
       "      <td>182010.0</td>\n",
       "      <td>72.89</td>\n",
       "      <td>74.09</td>\n",
       "      <td>73.946610</td>\n",
       "    </tr>\n",
       "    <tr>\n",
       "      <th>1</th>\n",
       "      <td>RF</td>\n",
       "      <td>62063.0</td>\n",
       "      <td>142773.0</td>\n",
       "      <td>97.18</td>\n",
       "      <td>84.06</td>\n",
       "      <td>83.968786</td>\n",
       "    </tr>\n",
       "    <tr>\n",
       "      <th>2</th>\n",
       "      <td>GB</td>\n",
       "      <td>121885.0</td>\n",
       "      <td>138587.0</td>\n",
       "      <td>89.13</td>\n",
       "      <td>84.98</td>\n",
       "      <td>84.895036</td>\n",
       "    </tr>\n",
       "    <tr>\n",
       "      <th>3</th>\n",
       "      <td>BG</td>\n",
       "      <td>124689.0</td>\n",
       "      <td>137015.0</td>\n",
       "      <td>88.63</td>\n",
       "      <td>85.32</td>\n",
       "      <td>85.235767</td>\n",
       "    </tr>\n",
       "  </tbody>\n",
       "</table>\n",
       "</div>"
      ],
      "text/plain": [
       "  Model  Train RMSE  Test RMSE  Train R2_Score %  Test R2_Score %  Adj_Score\n",
       "0    LR    192524.0   182010.0             72.89            74.09  73.946610\n",
       "1    RF     62063.0   142773.0             97.18            84.06  83.968786\n",
       "2    GB    121885.0   138587.0             89.13            84.98  84.895036\n",
       "3    BG    124689.0   137015.0             88.63            85.32  85.235767"
      ]
     },
     "execution_count": 40,
     "metadata": {},
     "output_type": "execute_result"
    }
   ],
   "source": [
    "bestmodel"
   ]
  },
  {
   "cell_type": "markdown",
   "metadata": {},
   "source": [
    "### Feature Selection"
   ]
  },
  {
   "cell_type": "code",
   "execution_count": 41,
   "metadata": {},
   "outputs": [
    {
     "name": "stdout",
     "output_type": "stream",
     "text": [
      "[False False False  True  True  True  True  True False False False  True\n",
      "  True  True  True  True  True False False  True False  True False  True]\n",
      "[ 6  8  7  1  1  1  1  1  9 10 11  1  1  1  1  1  1  2  5  1  4  1  3  1]\n"
     ]
    }
   ],
   "source": [
    "from sklearn.feature_selection import RFE\n",
    "\n",
    "lr=LinearRegression()\n",
    "# .fit(X_train,y_train)\n",
    "rfe = RFE(lr,14)\n",
    "rfe.fit(Xtrain,Ytrain)\n",
    "print(rfe.support_)\n",
    "print(rfe.ranking_)\n",
    "idc_rfe = pd.DataFrame({\"rfe_support\" :rfe.support_,\n",
    "                       \"columns\" :Xtrain.columns ,\n",
    "                       \"ranking\" : rfe.ranking_,\n",
    "                      })\n",
    "cols = idc_rfe[idc_rfe[\"rfe_support\"] == True][\"columns\"].tolist()"
   ]
  },
  {
   "cell_type": "code",
   "execution_count": 42,
   "metadata": {},
   "outputs": [],
   "source": [
    "house_rfe=house_mice[cols]"
   ]
  },
  {
   "cell_type": "code",
   "execution_count": 43,
   "metadata": {},
   "outputs": [],
   "source": [
    "Xtrain,Xtest,Ytrain,Ytest=train_test_split(house_rfe,y,test_size=0.3,random_state=10)"
   ]
  },
  {
   "cell_type": "code",
   "execution_count": 44,
   "metadata": {},
   "outputs": [
    {
     "name": "stdout",
     "output_type": "stream",
     "text": [
      "The Training Accuracy is 70.61197229812144\n",
      "The Test Accuracy is  71.30564762385755\n",
      "The Train RMSE for Linear Regression is 200513.49224169797\n",
      "The Test RMSE for Linear Regression is 193589.12418273246\n"
     ]
    }
   ],
   "source": [
    "lr=LinearRegression()\n",
    "lr.fit(Xtrain,Ytrain)\n",
    "ytrain_lr=lr.predict(Xtrain)\n",
    "ypred_lr=lr.predict(Xtest)\n",
    "a=lr.score(Xtrain,Ytrain) # TRAINING ACCRACY\n",
    "b=lr.score(Xtest,Ytest)  # TEST ACCURACY\n",
    "print(\"The Training Accuracy is\",a*100) \n",
    "print(\"The Test Accuracy is \",b*100)\n",
    "rmse_lr=np.sqrt(mean_squared_error(Ytrain,ytrain_lr)) # TRAIN RMSE\n",
    "rmse_lr1=np.sqrt(mean_squared_error(Ytest,ypred_lr)) #TEST RMSE\n",
    "print(\"The Train RMSE for Linear Regression is\",rmse_lr)\n",
    "print(\"The Test RMSE for Linear Regression is\",rmse_lr1)"
   ]
  },
  {
   "cell_type": "code",
   "execution_count": 45,
   "metadata": {},
   "outputs": [
    {
     "data": {
      "text/html": [
       "<div>\n",
       "<style scoped>\n",
       "    .dataframe tbody tr th:only-of-type {\n",
       "        vertical-align: middle;\n",
       "    }\n",
       "\n",
       "    .dataframe tbody tr th {\n",
       "        vertical-align: top;\n",
       "    }\n",
       "\n",
       "    .dataframe thead th {\n",
       "        text-align: right;\n",
       "    }\n",
       "</style>\n",
       "<table border=\"1\" class=\"dataframe\">\n",
       "  <thead>\n",
       "    <tr style=\"text-align: right;\">\n",
       "      <th></th>\n",
       "      <th>columns</th>\n",
       "      <th>Coef_</th>\n",
       "    </tr>\n",
       "  </thead>\n",
       "  <tbody>\n",
       "    <tr>\n",
       "      <th>0</th>\n",
       "      <td>coast</td>\n",
       "      <td>5.341461e+05</td>\n",
       "    </tr>\n",
       "    <tr>\n",
       "      <th>1</th>\n",
       "      <td>sight</td>\n",
       "      <td>6.051614e+04</td>\n",
       "    </tr>\n",
       "    <tr>\n",
       "      <th>2</th>\n",
       "      <td>condition</td>\n",
       "      <td>5.379595e+04</td>\n",
       "    </tr>\n",
       "    <tr>\n",
       "      <th>3</th>\n",
       "      <td>quality</td>\n",
       "      <td>7.562282e+04</td>\n",
       "    </tr>\n",
       "    <tr>\n",
       "      <th>4</th>\n",
       "      <td>furnished</td>\n",
       "      <td>8.081172e+04</td>\n",
       "    </tr>\n",
       "    <tr>\n",
       "      <th>5</th>\n",
       "      <td>living_measure</td>\n",
       "      <td>5.285159e+10</td>\n",
       "    </tr>\n",
       "    <tr>\n",
       "      <th>6</th>\n",
       "      <td>lot_measure</td>\n",
       "      <td>-1.660038e+07</td>\n",
       "    </tr>\n",
       "    <tr>\n",
       "      <th>7</th>\n",
       "      <td>ceil_measure</td>\n",
       "      <td>-4.765263e+10</td>\n",
       "    </tr>\n",
       "    <tr>\n",
       "      <th>8</th>\n",
       "      <td>basement</td>\n",
       "      <td>-2.546806e+10</td>\n",
       "    </tr>\n",
       "    <tr>\n",
       "      <th>9</th>\n",
       "      <td>lat</td>\n",
       "      <td>8.285003e+04</td>\n",
       "    </tr>\n",
       "    <tr>\n",
       "      <th>10</th>\n",
       "      <td>long</td>\n",
       "      <td>-6.066095e+04</td>\n",
       "    </tr>\n",
       "    <tr>\n",
       "      <th>11</th>\n",
       "      <td>total_area</td>\n",
       "      <td>1.665135e+07</td>\n",
       "    </tr>\n",
       "    <tr>\n",
       "      <th>12</th>\n",
       "      <td>Region_North West</td>\n",
       "      <td>-7.348618e+04</td>\n",
       "    </tr>\n",
       "    <tr>\n",
       "      <th>13</th>\n",
       "      <td>Region_South West</td>\n",
       "      <td>-1.269974e+05</td>\n",
       "    </tr>\n",
       "  </tbody>\n",
       "</table>\n",
       "</div>"
      ],
      "text/plain": [
       "              columns         Coef_\n",
       "0               coast  5.341461e+05\n",
       "1               sight  6.051614e+04\n",
       "2           condition  5.379595e+04\n",
       "3             quality  7.562282e+04\n",
       "4           furnished  8.081172e+04\n",
       "5      living_measure  5.285159e+10\n",
       "6         lot_measure -1.660038e+07\n",
       "7        ceil_measure -4.765263e+10\n",
       "8            basement -2.546806e+10\n",
       "9                 lat  8.285003e+04\n",
       "10               long -6.066095e+04\n",
       "11         total_area  1.665135e+07\n",
       "12  Region_North West -7.348618e+04\n",
       "13  Region_South West -1.269974e+05"
      ]
     },
     "execution_count": 45,
     "metadata": {},
     "output_type": "execute_result"
    }
   ],
   "source": [
    "df1=pd.DataFrame({'columns':Xtrain.columns})\n",
    "df1['Coef_']=lr.coef_\n",
    "df1"
   ]
  },
  {
   "cell_type": "code",
   "execution_count": 46,
   "metadata": {},
   "outputs": [
    {
     "name": "stdout",
     "output_type": "stream",
     "text": [
      "The Training Accuracy is 97.29357309438585\n",
      "The Test Accuracy is  82.66195219847603\n",
      "The TRAIN RMSE for Random is 60849.432441896366\n",
      "The TEST RMSE for Random Forest Regression is 150481.40567465822\n"
     ]
    }
   ],
   "source": [
    "rf=RandomForestRegressor()\n",
    "rf.fit(Xtrain,Ytrain)\n",
    "ytrain_rf=rf.predict(Xtrain)\n",
    "ypred_rf=rf.predict(Xtest)\n",
    "c=rf.score(Xtrain,Ytrain) # TRAIN ACCURAY\n",
    "d=rf.score(Xtest,Ytest) #TEST ACCURACY\n",
    "print(\"The Training Accuracy is\",c*100) \n",
    "print(\"The Test Accuracy is \",d*100) \n",
    "rmse_rf=np.sqrt(mean_squared_error(Ytrain,ytrain_rf)) # TRANING RMSE\n",
    "rmse_rf1=np.sqrt(mean_squared_error(Ytest,ypred_rf)) # TEST RMSE\n",
    "print(\"The TRAIN RMSE for Random is\",rmse_rf)\n",
    "print(\"The TEST RMSE for Random Forest Regression is\",rmse_rf1)"
   ]
  },
  {
   "cell_type": "code",
   "execution_count": 54,
   "metadata": {},
   "outputs": [
    {
     "name": "stdout",
     "output_type": "stream",
     "text": [
      "The Training Accuracy is 87.96824980951364\n",
      "The Test Accuracy is  81.54667052594546\n",
      "The TRAIN RMSE for Gradient Regression is 128298.85596612422\n",
      "The TEST RMSE for Gradient Regression is 155245.88925481765\n"
     ]
    }
   ],
   "source": [
    "gb=GradientBoostingRegressor()\n",
    "gb.fit(Xtrain,Ytrain)\n",
    "ypred_gb=gb.predict(Xtest)\n",
    "ytrain_gb=gb.predict(Xtrain)\n",
    "e=gb.score(Xtrain,Ytrain) # TRAIN ACCURACY\n",
    "f=gb.score(Xtest,Ytest) #TEST ACCURACY\n",
    "print(\"The Training Accuracy is\",e*100) \n",
    "print(\"The Test Accuracy is \",f*100) \n",
    "rmse_gb=np.sqrt(mean_squared_error(Ytrain,ytrain_gb)) #TRAIN RMSE\n",
    "rmse_gb1=np.sqrt(mean_squared_error(Ytest,ypred_gb)) # TEST RMSE\n",
    "print(\"The TRAIN RMSE for Gradient Regression is\",rmse_gb)\n",
    "print(\"The TEST RMSE for Gradient Regression is\",rmse_gb1)"
   ]
  },
  {
   "cell_type": "code",
   "execution_count": 53,
   "metadata": {},
   "outputs": [
    {
     "name": "stdout",
     "output_type": "stream",
     "text": [
      "The Training Accuracy is 87.21240838070368\n",
      "The Test Accuracy is  82.26755589444457\n",
      "The TRAIN RMSE for Bagging Regression is 132267.38269786356\n",
      "The TEST RMSE for Bagging Regression is 152183.3153888267\n"
     ]
    }
   ],
   "source": [
    "gb=GradientBoostingRegressor()\n",
    "bg=BaggingRegressor(base_estimator=gb)\n",
    "bg.fit(Xtrain,Ytrain)\n",
    "ypred_bg=bg.predict(Xtest)\n",
    "ytrain_bg=bg.predict(Xtrain)\n",
    "g=bg.score(Xtrain,Ytrain)\n",
    "h=bg.score(Xtest,Ytest)\n",
    "print(\"The Training Accuracy is\",g*100)  #RAIN ACCURACY\n",
    "print(\"The Test Accuracy is \",h*100)  # TEST ACCURACY\n",
    "rmse_bg=np.sqrt(mean_squared_error(Ytrain,ytrain_bg)) #TRAIN RMSE\n",
    "rmse_bg1=np.sqrt(mean_squared_error(Ytest,ypred_bg)) #TEST RMSE\n",
    "print(\"The TRAIN RMSE for Bagging Regression is\",rmse_bg)\n",
    "print(\"The TEST RMSE for Bagging Regression is\",rmse_bg1)"
   ]
  },
  {
   "cell_type": "markdown",
   "metadata": {},
   "source": [
    "### Calculating Adjusted R2_Score"
   ]
  },
  {
   "cell_type": "code",
   "execution_count": 49,
   "metadata": {},
   "outputs": [],
   "source": [
    "models=[ypred_lr,ypred_rf,ypred_gb,ypred_bg]\n",
    "r2_score=[]\n",
    "adr2_score=[]\n",
    "for i in models:\n",
    "    SS_Residual = sum((Ytest-i)**2)\n",
    "    SS_Total = sum((Ytest-np.mean(Ytest))**2)\n",
    "    r_squared = 1 - (float(SS_Residual))/SS_Total\n",
    "    r2_score.append(r_squared*100)\n",
    "    adjusted_r_squared = 1 - (1-r_squared)*(len(Ytest)-1)/(len(Ytest)-Xtrain.shape[1]-1)\n",
    "    adr2_score.append(round(adjusted_r_squared*100,2))"
   ]
  },
  {
   "cell_type": "markdown",
   "metadata": {},
   "source": [
    "### Model after RFE"
   ]
  },
  {
   "cell_type": "code",
   "execution_count": 50,
   "metadata": {},
   "outputs": [
    {
     "data": {
      "text/html": [
       "<div>\n",
       "<style scoped>\n",
       "    .dataframe tbody tr th:only-of-type {\n",
       "        vertical-align: middle;\n",
       "    }\n",
       "\n",
       "    .dataframe tbody tr th {\n",
       "        vertical-align: top;\n",
       "    }\n",
       "\n",
       "    .dataframe thead th {\n",
       "        text-align: right;\n",
       "    }\n",
       "</style>\n",
       "<table border=\"1\" class=\"dataframe\">\n",
       "  <thead>\n",
       "    <tr style=\"text-align: right;\">\n",
       "      <th></th>\n",
       "      <th>Model</th>\n",
       "      <th>Train RMSE</th>\n",
       "      <th>Test RMSE</th>\n",
       "      <th>Train R2_Score %</th>\n",
       "      <th>Test R2_Score %</th>\n",
       "      <th>Adj_Score</th>\n",
       "    </tr>\n",
       "  </thead>\n",
       "  <tbody>\n",
       "    <tr>\n",
       "      <th>0</th>\n",
       "      <td>LR</td>\n",
       "      <td>200513.0</td>\n",
       "      <td>193589.0</td>\n",
       "      <td>70.61</td>\n",
       "      <td>71.31</td>\n",
       "      <td>71.24</td>\n",
       "    </tr>\n",
       "    <tr>\n",
       "      <th>1</th>\n",
       "      <td>RF</td>\n",
       "      <td>60849.0</td>\n",
       "      <td>150481.0</td>\n",
       "      <td>97.29</td>\n",
       "      <td>82.66</td>\n",
       "      <td>82.62</td>\n",
       "    </tr>\n",
       "    <tr>\n",
       "      <th>2</th>\n",
       "      <td>GB</td>\n",
       "      <td>128299.0</td>\n",
       "      <td>155399.0</td>\n",
       "      <td>87.97</td>\n",
       "      <td>81.51</td>\n",
       "      <td>81.47</td>\n",
       "    </tr>\n",
       "    <tr>\n",
       "      <th>3</th>\n",
       "      <td>BG</td>\n",
       "      <td>133757.0</td>\n",
       "      <td>150164.0</td>\n",
       "      <td>86.92</td>\n",
       "      <td>82.74</td>\n",
       "      <td>82.70</td>\n",
       "    </tr>\n",
       "  </tbody>\n",
       "</table>\n",
       "</div>"
      ],
      "text/plain": [
       "  Model  Train RMSE  Test RMSE  Train R2_Score %  Test R2_Score %  Adj_Score\n",
       "0    LR    200513.0   193589.0             70.61            71.31      71.24\n",
       "1    RF     60849.0   150481.0             97.29            82.66      82.62\n",
       "2    GB    128299.0   155399.0             87.97            81.51      81.47\n",
       "3    BG    133757.0   150164.0             86.92            82.74      82.70"
      ]
     },
     "execution_count": 50,
     "metadata": {},
     "output_type": "execute_result"
    }
   ],
   "source": [
    "bestmodel=pd.DataFrame({'Model':['LR','RF','GB','BG']})\n",
    "bestmodel['Train RMSE']=[round(rmse_lr),round(rmse_rf),round(rmse_gb),round(rmse_bg)]\n",
    "bestmodel['Test RMSE']=[round(rmse_lr1),round(rmse_rf1),round(rmse_gb1),round(rmse_bg1)]\n",
    "bestmodel['Train R2_Score %']=[round(a*100,2),round(c*100,2),round(e*100,2),round(g*100,2)]\n",
    "bestmodel['Test R2_Score %']=[round(b*100,2),round(d*100,2),round(f*100,2),round(h*100,2)]\n",
    "bestmodel['Adj_Score']=adr2_score\n",
    "bestmodel"
   ]
  }
 ],
 "metadata": {
  "kernelspec": {
   "display_name": "Python 3",
   "language": "python",
   "name": "python3"
  },
  "language_info": {
   "codemirror_mode": {
    "name": "ipython",
    "version": 3
   },
   "file_extension": ".py",
   "mimetype": "text/x-python",
   "name": "python",
   "nbconvert_exporter": "python",
   "pygments_lexer": "ipython3",
   "version": "3.7.3"
  },
  "latex_envs": {
   "LaTeX_envs_menu_present": true,
   "autoclose": false,
   "autocomplete": true,
   "bibliofile": "biblio.bib",
   "cite_by": "apalike",
   "current_citInitial": 1,
   "eqLabelWithNumbers": true,
   "eqNumInitial": 1,
   "hotkeys": {
    "equation": "Ctrl-E",
    "itemize": "Ctrl-I"
   },
   "labels_anchors": false,
   "latex_user_defs": false,
   "report_style_numbering": false,
   "user_envs_cfg": false
  },
  "toc": {
   "base_numbering": 1,
   "nav_menu": {},
   "number_sections": true,
   "sideBar": true,
   "skip_h1_title": false,
   "title_cell": "Table of Contents",
   "title_sidebar": "Contents",
   "toc_cell": false,
   "toc_position": {},
   "toc_section_display": true,
   "toc_window_display": false
  }
 },
 "nbformat": 4,
 "nbformat_minor": 2
}
